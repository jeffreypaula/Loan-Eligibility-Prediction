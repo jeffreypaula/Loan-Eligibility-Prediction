{
 "cells": [
  {
   "cell_type": "code",
   "execution_count": 1,
   "metadata": {},
   "outputs": [],
   "source": [
    "import pandas as pd\n",
    "import matplotlib.pyplot as plt\n",
    "\n",
    "    "
   ]
  },
  {
   "cell_type": "code",
   "execution_count": 77,
   "metadata": {},
   "outputs": [],
   "source": [
    "from sklearn.preprocessing import StandardScaler\n",
    "from sklearn.model_selection import train_test_split\n",
    "from sklearn.neighbors import KNeighborsClassifier\n",
    "from sklearn.ensemble import RandomForestClassifier\n",
    "from sklearn.linear_model import LogisticRegression\n",
    "from sklearn.svm import SVC\n",
    "from sklearn.decomposition import PCA\n",
    "from xgboost import XGBClassifier\n",
    "\n",
    "from sklearn.model_selection import GridSearchCV,RandomizedSearchCV\n",
    "\n",
    "from sklearn.preprocessing import OrdinalEncoder,OneHotEncoder,LabelEncoder\n",
    "from sklearn.base import BaseEstimator,TransformerMixin\n",
    "from sklearn.pipeline import Pipeline,FeatureUnion\n",
    "\n",
    "from sklearn.metrics import f1_score,precision_score,recall_score,accuracy_score\n",
    "\n",
    "import numpy as np\n",
    "\n",
    "from ipywidgets import interact"
   ]
  },
  {
   "cell_type": "code",
   "execution_count": 42,
   "metadata": {},
   "outputs": [],
   "source": [
    "loan_train = pd.read_csv('loan_train.csv')\n",
    "loan_test = pd.read_csv('loan_test.csv')"
   ]
  },
  {
   "cell_type": "code",
   "execution_count": 43,
   "metadata": {
    "scrolled": false
   },
   "outputs": [
    {
     "data": {
      "text/html": [
       "<div>\n",
       "<style scoped>\n",
       "    .dataframe tbody tr th:only-of-type {\n",
       "        vertical-align: middle;\n",
       "    }\n",
       "\n",
       "    .dataframe tbody tr th {\n",
       "        vertical-align: top;\n",
       "    }\n",
       "\n",
       "    .dataframe thead th {\n",
       "        text-align: right;\n",
       "    }\n",
       "</style>\n",
       "<table border=\"1\" class=\"dataframe\">\n",
       "  <thead>\n",
       "    <tr style=\"text-align: right;\">\n",
       "      <th></th>\n",
       "      <th>Loan_ID</th>\n",
       "      <th>Gender</th>\n",
       "      <th>Married</th>\n",
       "      <th>Dependents</th>\n",
       "      <th>Education</th>\n",
       "      <th>Self_Employed</th>\n",
       "      <th>ApplicantIncome</th>\n",
       "      <th>CoapplicantIncome</th>\n",
       "      <th>LoanAmount</th>\n",
       "      <th>Loan_Amount_Term</th>\n",
       "      <th>Credit_History</th>\n",
       "      <th>Property_Area</th>\n",
       "      <th>Loan_Status</th>\n",
       "    </tr>\n",
       "  </thead>\n",
       "  <tbody>\n",
       "    <tr>\n",
       "      <th>0</th>\n",
       "      <td>LP001002</td>\n",
       "      <td>Male</td>\n",
       "      <td>No</td>\n",
       "      <td>0</td>\n",
       "      <td>Graduate</td>\n",
       "      <td>No</td>\n",
       "      <td>5849</td>\n",
       "      <td>0.0</td>\n",
       "      <td>NaN</td>\n",
       "      <td>360.0</td>\n",
       "      <td>1.0</td>\n",
       "      <td>Urban</td>\n",
       "      <td>Y</td>\n",
       "    </tr>\n",
       "    <tr>\n",
       "      <th>1</th>\n",
       "      <td>LP001003</td>\n",
       "      <td>Male</td>\n",
       "      <td>Yes</td>\n",
       "      <td>1</td>\n",
       "      <td>Graduate</td>\n",
       "      <td>No</td>\n",
       "      <td>4583</td>\n",
       "      <td>1508.0</td>\n",
       "      <td>128.0</td>\n",
       "      <td>360.0</td>\n",
       "      <td>1.0</td>\n",
       "      <td>Rural</td>\n",
       "      <td>N</td>\n",
       "    </tr>\n",
       "    <tr>\n",
       "      <th>2</th>\n",
       "      <td>LP001005</td>\n",
       "      <td>Male</td>\n",
       "      <td>Yes</td>\n",
       "      <td>0</td>\n",
       "      <td>Graduate</td>\n",
       "      <td>Yes</td>\n",
       "      <td>3000</td>\n",
       "      <td>0.0</td>\n",
       "      <td>66.0</td>\n",
       "      <td>360.0</td>\n",
       "      <td>1.0</td>\n",
       "      <td>Urban</td>\n",
       "      <td>Y</td>\n",
       "    </tr>\n",
       "    <tr>\n",
       "      <th>3</th>\n",
       "      <td>LP001006</td>\n",
       "      <td>Male</td>\n",
       "      <td>Yes</td>\n",
       "      <td>0</td>\n",
       "      <td>Not Graduate</td>\n",
       "      <td>No</td>\n",
       "      <td>2583</td>\n",
       "      <td>2358.0</td>\n",
       "      <td>120.0</td>\n",
       "      <td>360.0</td>\n",
       "      <td>1.0</td>\n",
       "      <td>Urban</td>\n",
       "      <td>Y</td>\n",
       "    </tr>\n",
       "    <tr>\n",
       "      <th>4</th>\n",
       "      <td>LP001008</td>\n",
       "      <td>Male</td>\n",
       "      <td>No</td>\n",
       "      <td>0</td>\n",
       "      <td>Graduate</td>\n",
       "      <td>No</td>\n",
       "      <td>6000</td>\n",
       "      <td>0.0</td>\n",
       "      <td>141.0</td>\n",
       "      <td>360.0</td>\n",
       "      <td>1.0</td>\n",
       "      <td>Urban</td>\n",
       "      <td>Y</td>\n",
       "    </tr>\n",
       "  </tbody>\n",
       "</table>\n",
       "</div>"
      ],
      "text/plain": [
       "    Loan_ID Gender Married Dependents     Education Self_Employed  \\\n",
       "0  LP001002   Male      No          0      Graduate            No   \n",
       "1  LP001003   Male     Yes          1      Graduate            No   \n",
       "2  LP001005   Male     Yes          0      Graduate           Yes   \n",
       "3  LP001006   Male     Yes          0  Not Graduate            No   \n",
       "4  LP001008   Male      No          0      Graduate            No   \n",
       "\n",
       "   ApplicantIncome  CoapplicantIncome  LoanAmount  Loan_Amount_Term  \\\n",
       "0             5849                0.0         NaN             360.0   \n",
       "1             4583             1508.0       128.0             360.0   \n",
       "2             3000                0.0        66.0             360.0   \n",
       "3             2583             2358.0       120.0             360.0   \n",
       "4             6000                0.0       141.0             360.0   \n",
       "\n",
       "   Credit_History Property_Area Loan_Status  \n",
       "0             1.0         Urban           Y  \n",
       "1             1.0         Rural           N  \n",
       "2             1.0         Urban           Y  \n",
       "3             1.0         Urban           Y  \n",
       "4             1.0         Urban           Y  "
      ]
     },
     "execution_count": 43,
     "metadata": {},
     "output_type": "execute_result"
    }
   ],
   "source": [
    "loan_train.head()"
   ]
  },
  {
   "cell_type": "code",
   "execution_count": 297,
   "metadata": {},
   "outputs": [
    {
     "data": {
      "text/html": [
       "<div>\n",
       "<style scoped>\n",
       "    .dataframe tbody tr th:only-of-type {\n",
       "        vertical-align: middle;\n",
       "    }\n",
       "\n",
       "    .dataframe tbody tr th {\n",
       "        vertical-align: top;\n",
       "    }\n",
       "\n",
       "    .dataframe thead th {\n",
       "        text-align: right;\n",
       "    }\n",
       "</style>\n",
       "<table border=\"1\" class=\"dataframe\">\n",
       "  <thead>\n",
       "    <tr style=\"text-align: right;\">\n",
       "      <th></th>\n",
       "      <th>Gender</th>\n",
       "      <th>Married</th>\n",
       "      <th>Dependents</th>\n",
       "      <th>Education</th>\n",
       "      <th>Self_Employed</th>\n",
       "    </tr>\n",
       "  </thead>\n",
       "  <tbody>\n",
       "    <tr>\n",
       "      <th>0</th>\n",
       "      <td>Male</td>\n",
       "      <td>No</td>\n",
       "      <td>0</td>\n",
       "      <td>Graduate</td>\n",
       "      <td>No</td>\n",
       "    </tr>\n",
       "    <tr>\n",
       "      <th>1</th>\n",
       "      <td>Male</td>\n",
       "      <td>Yes</td>\n",
       "      <td>1</td>\n",
       "      <td>Graduate</td>\n",
       "      <td>No</td>\n",
       "    </tr>\n",
       "    <tr>\n",
       "      <th>2</th>\n",
       "      <td>Male</td>\n",
       "      <td>Yes</td>\n",
       "      <td>0</td>\n",
       "      <td>Graduate</td>\n",
       "      <td>Yes</td>\n",
       "    </tr>\n",
       "    <tr>\n",
       "      <th>3</th>\n",
       "      <td>Male</td>\n",
       "      <td>Yes</td>\n",
       "      <td>0</td>\n",
       "      <td>Not Graduate</td>\n",
       "      <td>No</td>\n",
       "    </tr>\n",
       "    <tr>\n",
       "      <th>4</th>\n",
       "      <td>Male</td>\n",
       "      <td>No</td>\n",
       "      <td>0</td>\n",
       "      <td>Graduate</td>\n",
       "      <td>No</td>\n",
       "    </tr>\n",
       "  </tbody>\n",
       "</table>\n",
       "</div>"
      ],
      "text/plain": [
       "  Gender Married Dependents     Education Self_Employed\n",
       "0   Male      No          0      Graduate            No\n",
       "1   Male     Yes          1      Graduate            No\n",
       "2   Male     Yes          0      Graduate           Yes\n",
       "3   Male     Yes          0  Not Graduate            No\n",
       "4   Male      No          0      Graduate            No"
      ]
     },
     "execution_count": 297,
     "metadata": {},
     "output_type": "execute_result"
    }
   ],
   "source": [
    "loan_train.iloc[:, :5].head()"
   ]
  },
  {
   "cell_type": "code",
   "execution_count": 296,
   "metadata": {},
   "outputs": [
    {
     "data": {
      "text/plain": [
       "Index(['Gender', 'Married', 'Dependents', 'Education', 'Self_Employed',\n",
       "       'ApplicantIncome', 'CoapplicantIncome', 'LoanAmount',\n",
       "       'Loan_Amount_Term', 'Credit_History', 'Property_Area', 'Loan_Status',\n",
       "       'TotIncome', 'payable_per_month', 'frac_income'],\n",
       "      dtype='object')"
      ]
     },
     "execution_count": 296,
     "metadata": {},
     "output_type": "execute_result"
    }
   ],
   "source": [
    "loan_train.columns"
   ]
  },
  {
   "cell_type": "code",
   "execution_count": 44,
   "metadata": {
    "scrolled": true
   },
   "outputs": [],
   "source": [
    "def change(x):\n",
    "    if x == 'Y':\n",
    "        return 1\n",
    "    else: \n",
    "        return 0\n",
    "loan_train['Loan_Status'] = loan_train['Loan_Status'].apply(change)\n"
   ]
  },
  {
   "cell_type": "code",
   "execution_count": 45,
   "metadata": {},
   "outputs": [],
   "source": [
    "\n",
    "continous_features= ['ApplicantIncome','LoanAmount','CoapplicantIncome']"
   ]
  },
  {
   "cell_type": "code",
   "execution_count": 46,
   "metadata": {},
   "outputs": [],
   "source": [
    "loan_train = loan_train.drop(columns=['Loan_ID'])"
   ]
  },
  {
   "cell_type": "code",
   "execution_count": 47,
   "metadata": {},
   "outputs": [
    {
     "data": {
      "text/plain": [
       "Gender               13\n",
       "Married               3\n",
       "Dependents           15\n",
       "Education             0\n",
       "Self_Employed        32\n",
       "ApplicantIncome       0\n",
       "CoapplicantIncome     0\n",
       "LoanAmount           22\n",
       "Loan_Amount_Term     14\n",
       "Credit_History       50\n",
       "Property_Area         0\n",
       "Loan_Status           0\n",
       "dtype: int64"
      ]
     },
     "execution_count": 47,
     "metadata": {},
     "output_type": "execute_result"
    }
   ],
   "source": [
    "loan_train.isnull().sum()"
   ]
  },
  {
   "cell_type": "code",
   "execution_count": 48,
   "metadata": {},
   "outputs": [],
   "source": [
    "#loan_train['Loan_Amount_Term'] = loan_train['Loan_Amount_Term']/12*12\n",
    "loan_train['TotIncome'] = loan_train['ApplicantIncome'] + loan_train['CoapplicantIncome']"
   ]
  },
  {
   "cell_type": "code",
   "execution_count": 49,
   "metadata": {},
   "outputs": [],
   "source": [
    "\n",
    "loan_train['payable_per_month'] = loan_train['LoanAmount']*1000/loan_train['Loan_Amount_Term']\n",
    "loan_train['frac_income'] = loan_train['payable_per_month']/loan_train['TotIncome']*100\n",
    "#loan_train[(loan_train['Credit_History'] == 0) & (loan_train['Loan_Status'] == 1)].iloc[:30] \n",
    "factors = ['ApplicantIncome','CoapplicantIncome','TotIncome','Loan_Amount_Term','frac_income','payable_per_month','Credit_History','Loan_Status']\n",
    "#loan_train[loan_train['Loan_Status'] == 0].iloc[:30]"
   ]
  },
  {
   "cell_type": "code",
   "execution_count": 50,
   "metadata": {},
   "outputs": [],
   "source": [
    "labels = loan_train['Loan_Status']"
   ]
  },
  {
   "cell_type": "code",
   "execution_count": 51,
   "metadata": {},
   "outputs": [],
   "source": [
    "def convert(x):\n",
    "    if x < 168:\n",
    "        return 0\n",
    "    else:\n",
    "        return 1"
   ]
  },
  {
   "cell_type": "code",
   "execution_count": 52,
   "metadata": {},
   "outputs": [],
   "source": [
    "features = ['Gender','Married','Dependents','Education','Self_Employed','Loan_Amount_Term','loan_term','Property_Area','Credit_History']\n",
    "new_features = features + ['Loan_Status']\n",
    "data_len = len(loan_train)\n",
    "#df = loan_train.dropna(subset=features)\n",
    "def category_survival( features):\n",
    "    df = loan_train.dropna(subset= [features])\n",
    "    category=  dict(df.groupby(features)['Loan_Status'].sum()/data_len*100)\n",
    "    success_rate = dict(df.groupby(features)['Loan_Status'].sum()/df.groupby(features)['Loan_Status'].count()*100)\n",
    "    print(f'Success rate for each category of {features}')\n",
    "    [print(f'{cat} : {percentage}% , {success_rate[cat]}') for cat, percentage in category.items()]"
   ]
  },
  {
   "cell_type": "code",
   "execution_count": 53,
   "metadata": {},
   "outputs": [
    {
     "data": {
      "application/vnd.jupyter.widget-view+json": {
       "model_id": "6e707c8ec4df40b590f2721ff9a9cd08",
       "version_major": 2,
       "version_minor": 0
      },
      "text/plain": [
       "interactive(children=(Dropdown(description='index', options=('Gender', 'Married', 'Dependents', 'Education', '…"
      ]
     },
     "metadata": {},
     "output_type": "display_data"
    }
   ],
   "source": [
    "@interact\n",
    "def draw_count(index=new_features):\n",
    "    table = pd.crosstab(index=loan_train[index],columns='count',margins=True)\n",
    "    return table"
   ]
  },
  {
   "cell_type": "code",
   "execution_count": 54,
   "metadata": {
    "scrolled": true
   },
   "outputs": [
    {
     "data": {
      "application/vnd.jupyter.widget-view+json": {
       "model_id": "9b4b7dea85e9418f9d2c046489e6a7f3",
       "version_major": 2,
       "version_minor": 0
      },
      "text/plain": [
       "interactive(children=(Dropdown(description='index', options=('Gender', 'Married', 'Dependents', 'Education', '…"
      ]
     },
     "metadata": {},
     "output_type": "display_data"
    }
   ],
   "source": [
    "@interact\n",
    "def draw_table(index=new_features, column= new_features):\n",
    "    table = pd.crosstab(index=loan_train[index],columns=loan_train[column],margins=True)#,normalize = 'index'\n",
    "    return table"
   ]
  },
  {
   "cell_type": "code",
   "execution_count": 55,
   "metadata": {},
   "outputs": [
    {
     "data": {
      "application/vnd.jupyter.widget-view+json": {
       "model_id": "052c01fd6a0d4c6294a753f72627edff",
       "version_major": 2,
       "version_minor": 0
      },
      "text/plain": [
       "interactive(children=(Dropdown(description='features', options=('Gender', 'Married', 'Dependents', 'Education'…"
      ]
     },
     "metadata": {},
     "output_type": "display_data"
    }
   ],
   "source": [
    "\n",
    "\n",
    "@interact\n",
    "def plot_bar(features = features):\n",
    "    category_survival(features)\n",
    "    loan_train[features].hist()\n",
    "    "
   ]
  },
  {
   "cell_type": "code",
   "execution_count": 56,
   "metadata": {},
   "outputs": [
    {
     "data": {
      "application/vnd.jupyter.widget-view+json": {
       "model_id": "a0745ea7ba8e4429bda9d98a460208de",
       "version_major": 2,
       "version_minor": 0
      },
      "text/plain": [
       "interactive(children=(Dropdown(description='features', options=('Gender', 'Married', 'Dependents', 'Education'…"
      ]
     },
     "metadata": {},
     "output_type": "display_data"
    }
   ],
   "source": [
    "@interact\n",
    "def plot_bar(features = features):\n",
    "    category_survival(features)\n",
    "    #non_null_loans[features].hist()"
   ]
  },
  {
   "cell_type": "code",
   "execution_count": 57,
   "metadata": {},
   "outputs": [
    {
     "data": {
      "application/vnd.jupyter.widget-view+json": {
       "model_id": "21e763cea41a4780a2a9b108804636b1",
       "version_major": 2,
       "version_minor": 0
      },
      "text/plain": [
       "interactive(children=(Dropdown(description='features', options=('ApplicantIncome', 'LoanAmount', 'CoapplicantI…"
      ]
     },
     "metadata": {},
     "output_type": "display_data"
    }
   ],
   "source": [
    "continous_features = ['ApplicantIncome','LoanAmount','CoapplicantIncome','TotIncome','payable_per_month']\n",
    "@interact\n",
    "def box_plot(features= continous_features):\n",
    "    plt.boxplot(np.cbrt(loan_train[features].dropna()))"
   ]
  },
  {
   "cell_type": "markdown",
   "metadata": {},
   "source": [
    "#### Let's use the cube root to trasform the continous features."
   ]
  },
  {
   "cell_type": "code",
   "execution_count": 58,
   "metadata": {},
   "outputs": [
    {
     "data": {
      "text/html": [
       "<div>\n",
       "<style scoped>\n",
       "    .dataframe tbody tr th:only-of-type {\n",
       "        vertical-align: middle;\n",
       "    }\n",
       "\n",
       "    .dataframe tbody tr th {\n",
       "        vertical-align: top;\n",
       "    }\n",
       "\n",
       "    .dataframe thead th {\n",
       "        text-align: right;\n",
       "    }\n",
       "</style>\n",
       "<table border=\"1\" class=\"dataframe\">\n",
       "  <thead>\n",
       "    <tr style=\"text-align: right;\">\n",
       "      <th></th>\n",
       "      <th>ApplicantIncome</th>\n",
       "      <th>LoanAmount</th>\n",
       "      <th>CoapplicantIncome</th>\n",
       "      <th>TotIncome</th>\n",
       "      <th>payable_per_month</th>\n",
       "    </tr>\n",
       "  </thead>\n",
       "  <tbody>\n",
       "    <tr>\n",
       "      <th>count</th>\n",
       "      <td>614.000000</td>\n",
       "      <td>592.000000</td>\n",
       "      <td>614.000000</td>\n",
       "      <td>614.000000</td>\n",
       "      <td>578.000000</td>\n",
       "    </tr>\n",
       "    <tr>\n",
       "      <th>mean</th>\n",
       "      <td>16.520506</td>\n",
       "      <td>5.120375</td>\n",
       "      <td>7.480926</td>\n",
       "      <td>18.310466</td>\n",
       "      <td>7.452844</td>\n",
       "    </tr>\n",
       "    <tr>\n",
       "      <th>std</th>\n",
       "      <td>3.939230</td>\n",
       "      <td>0.870312</td>\n",
       "      <td>7.108669</td>\n",
       "      <td>3.755365</td>\n",
       "      <td>1.596912</td>\n",
       "    </tr>\n",
       "    <tr>\n",
       "      <th>min</th>\n",
       "      <td>5.313293</td>\n",
       "      <td>2.080084</td>\n",
       "      <td>0.000000</td>\n",
       "      <td>11.297658</td>\n",
       "      <td>2.924018</td>\n",
       "    </tr>\n",
       "    <tr>\n",
       "      <th>25%</th>\n",
       "      <td>14.223454</td>\n",
       "      <td>4.641589</td>\n",
       "      <td>0.000000</td>\n",
       "      <td>16.090631</td>\n",
       "      <td>6.589385</td>\n",
       "    </tr>\n",
       "    <tr>\n",
       "      <th>50%</th>\n",
       "      <td>15.621999</td>\n",
       "      <td>5.039684</td>\n",
       "      <td>10.592145</td>\n",
       "      <td>17.561957</td>\n",
       "      <td>7.148370</td>\n",
       "    </tr>\n",
       "    <tr>\n",
       "      <th>75%</th>\n",
       "      <td>17.961849</td>\n",
       "      <td>5.517848</td>\n",
       "      <td>13.194779</td>\n",
       "      <td>19.593221</td>\n",
       "      <td>8.009826</td>\n",
       "    </tr>\n",
       "    <tr>\n",
       "      <th>max</th>\n",
       "      <td>43.267487</td>\n",
       "      <td>8.879040</td>\n",
       "      <td>34.668156</td>\n",
       "      <td>43.267487</td>\n",
       "      <td>20.991682</td>\n",
       "    </tr>\n",
       "  </tbody>\n",
       "</table>\n",
       "</div>"
      ],
      "text/plain": [
       "       ApplicantIncome  LoanAmount  CoapplicantIncome   TotIncome  \\\n",
       "count       614.000000  592.000000         614.000000  614.000000   \n",
       "mean         16.520506    5.120375           7.480926   18.310466   \n",
       "std           3.939230    0.870312           7.108669    3.755365   \n",
       "min           5.313293    2.080084           0.000000   11.297658   \n",
       "25%          14.223454    4.641589           0.000000   16.090631   \n",
       "50%          15.621999    5.039684          10.592145   17.561957   \n",
       "75%          17.961849    5.517848          13.194779   19.593221   \n",
       "max          43.267487    8.879040          34.668156   43.267487   \n",
       "\n",
       "       payable_per_month  \n",
       "count         578.000000  \n",
       "mean            7.452844  \n",
       "std             1.596912  \n",
       "min             2.924018  \n",
       "25%             6.589385  \n",
       "50%             7.148370  \n",
       "75%             8.009826  \n",
       "max            20.991682  "
      ]
     },
     "execution_count": 58,
     "metadata": {},
     "output_type": "execute_result"
    }
   ],
   "source": [
    "    \n",
    "np.cbrt(loan_train[continous_features]).describe()"
   ]
  },
  {
   "cell_type": "code",
   "execution_count": 59,
   "metadata": {
    "scrolled": true
   },
   "outputs": [
    {
     "data": {
      "application/vnd.jupyter.widget-view+json": {
       "model_id": "6a81f49b099d4172b994ba91fb197cd2",
       "version_major": 2,
       "version_minor": 0
      },
      "text/plain": [
       "interactive(children=(Dropdown(description='column1', options=('ApplicantIncome', 'LoanAmount', 'CoapplicantIn…"
      ]
     },
     "metadata": {},
     "output_type": "display_data"
    }
   ],
   "source": [
    "@interact \n",
    "def corr(column1 = continous_features, column2 = continous_features):\n",
    "    print(loan_train[column1].corr(loan_train[column2]))\n",
    "    plt.scatter(loan_train[column1],loan_train[column2])"
   ]
  },
  {
   "cell_type": "markdown",
   "metadata": {},
   "source": [
    "# Handling Missing Values"
   ]
  },
  {
   "cell_type": "code",
   "execution_count": 60,
   "metadata": {},
   "outputs": [],
   "source": [
    "mode = loan_train['Loan_Amount_Term'].mode()\n",
    "loan_train['Loan_Amount_Term'].fillna(value= mode[0],inplace=True)"
   ]
  },
  {
   "cell_type": "code",
   "execution_count": 61,
   "metadata": {},
   "outputs": [],
   "source": [
    "good_credit = loan_train[(loan_train['Credit_History'] == 1)]\n",
    "#print(len(good_credit))\n",
    "#len(good_credit[good_credit['Loan_Status']== 0])"
   ]
  },
  {
   "cell_type": "code",
   "execution_count": 62,
   "metadata": {},
   "outputs": [],
   "source": [
    "history_pred = ['Self_Employed','Loan_Status','ApplicantIncome']\n",
    "\n",
    "def fill_na(loan):\n",
    "    X= loan.copy()\n",
    "    index = loan['Self_Employed'].dropna().index \n",
    "    #print(modes)\n",
    "    X= X.loc[index,:]\n",
    "    history_pred.append('Credit_History')\n",
    "    return X[history_pred]\n",
    "\n",
    "X_credit = fill_na(loan_train)\n",
    "\n",
    "credit =  X_credit['Credit_History']\n",
    "X_credit = X_credit.drop('Credit_History',axis=1)\n"
   ]
  },
  {
   "cell_type": "code",
   "execution_count": 63,
   "metadata": {},
   "outputs": [],
   "source": [
    "index = credit.dropna().index\n",
    "X_credit= X_credit.loc[index,:]\n",
    "cred = credit[index]\n",
    "\n",
    "encode_X = OrdinalEncoder().fit_transform(X_credit)\n"
   ]
  },
  {
   "cell_type": "markdown",
   "metadata": {},
   "source": [
    "### Since the credit history is the most important feature , lets try and predict the missing values using the loan status and other possible features. I will use the Xgbclassifier to predict the credit history section"
   ]
  },
  {
   "cell_type": "code",
   "execution_count": 64,
   "metadata": {},
   "outputs": [
    {
     "name": "stdout",
     "output_type": "stream",
     "text": [
      "Fitting 5 folds for each of 10 candidates, totalling 50 fits\n"
     ]
    },
    {
     "name": "stderr",
     "output_type": "stream",
     "text": [
      "[Parallel(n_jobs=2)]: Using backend LokyBackend with 2 concurrent workers.\n",
      "[Parallel(n_jobs=2)]: Done  46 tasks      | elapsed:   37.7s\n",
      "[Parallel(n_jobs=2)]: Done  50 out of  50 | elapsed:   40.2s finished\n"
     ]
    },
    {
     "data": {
      "text/plain": [
       "0.9479553903345725"
      ]
     },
     "execution_count": 64,
     "metadata": {},
     "output_type": "execute_result"
    }
   ],
   "source": [
    "ran_for = XGBClassifier(learning_rate=0.01,scale_pos_weight=6)\n",
    "param_grid = {\n",
    "    'max_depth': [2,3,4,5,6,7,8,9,10],\n",
    "    'n_estimators' : range(50,4000,5),\n",
    "    'scale_pos_weight': range(1,10),\n",
    "    'max_features': [1,2,3,4]\n",
    "}\n",
    "\n",
    "forest_rand = RandomizedSearchCV(ran_for,param_grid,cv=5, n_jobs=2,random_state=0,verbose=1)\n",
    "forest_rand.fit(encode_X,cred)\n",
    "accuracy_score(cred,forest_rand.predict(encode_X))"
   ]
  },
  {
   "cell_type": "code",
   "execution_count": 65,
   "metadata": {},
   "outputs": [],
   "source": [
    "forest_rand = forest_rand.best_estimator_"
   ]
  },
  {
   "cell_type": "code",
   "execution_count": 66,
   "metadata": {},
   "outputs": [],
   "source": [
    "no_cred  = loan_train[loan_train['Credit_History'].isnull()]\n",
    "index = no_cred.index\n",
    "no_cred = no_cred[['Self_Employed','Loan_Status','ApplicantIncome']]\n",
    "no_cred['Self_Employed'].fillna(value='No',inplace = True)\n",
    "encode  = OrdinalEncoder().fit_transform(no_cred)"
   ]
  },
  {
   "cell_type": "code",
   "execution_count": 67,
   "metadata": {},
   "outputs": [],
   "source": [
    "cred_result = forest_rand.predict(encode)\n",
    "loan_train.loc[index,'Credit_History']= cred_result"
   ]
  },
  {
   "cell_type": "code",
   "execution_count": 68,
   "metadata": {},
   "outputs": [
    {
     "data": {
      "text/plain": [
       "Gender               13\n",
       "Married               3\n",
       "Dependents           15\n",
       "Education             0\n",
       "Self_Employed        32\n",
       "ApplicantIncome       0\n",
       "CoapplicantIncome     0\n",
       "LoanAmount           22\n",
       "Loan_Amount_Term      0\n",
       "Credit_History        0\n",
       "Property_Area         0\n",
       "Loan_Status           0\n",
       "TotIncome             0\n",
       "payable_per_month    36\n",
       "frac_income          36\n",
       "dtype: int64"
      ]
     },
     "execution_count": 68,
     "metadata": {},
     "output_type": "execute_result"
    }
   ],
   "source": [
    "loan_train.isnull().sum()"
   ]
  },
  {
   "cell_type": "markdown",
   "metadata": {},
   "source": [
    "# Preprocessing The Data"
   ]
  },
  {
   "cell_type": "markdown",
   "metadata": {},
   "source": [
    "For simplicity and also due to the correlation between dataset features , i will use a KNN imputation algorithm to solve the missing values."
   ]
  },
  {
   "cell_type": "code",
   "execution_count": 322,
   "metadata": {},
   "outputs": [],
   "source": [
    "#loan_train_copy = loan_train.copy(deep=True)\n",
    "    \n",
    "class ColTransformer(BaseEstimator, TransformerMixin):\n",
    "    \n",
    "    def __init__(self,columns):\n",
    "        #super.__init__()\n",
    "        self.columns = columns\n",
    "        \n",
    "    def fit(self,X,y=None):\n",
    "        return self\n",
    "    \n",
    "    def ord_encode(self,data):\n",
    "        non_null = np.array(data.dropna())\n",
    "        non_null = non_null.reshape(-1,1)\n",
    "        encoded_data = self.encoder.fit_transform(non_null)\n",
    "        data.loc[data.notnull()] = np.squeeze(encoded_data)\n",
    "        #print('yes')\n",
    "        return data\n",
    "    \n",
    "    def transform(self,X):\n",
    "        Xt = X.loc[:,self.columns]\n",
    "        self.encoder = OrdinalEncoder()\n",
    "        for feature in self.columns:  \n",
    "            data = Xt.loc[:,feature]\n",
    "            Xt.loc[:,feature] = self.ord_encode(data)\n",
    "        return Xt\n",
    "    \n",
    "\n",
    "        #return Xt\n",
    "        \n",
    "class Normalize(BaseEstimator,TransformerMixin):\n",
    "    def __init__(self,columns):\n",
    "        self.columns = columns\n",
    "        \n",
    "    def fit(self,X,y=None):\n",
    "        return self\n",
    "    \n",
    "    def transform(self,X):\n",
    "        Xt = np.cbrt(X[self.columns])\n",
    "        Xt['tot_income'] = np.cbrt(X['CoapplicantIncome'] + X['ApplicantIncome'])\n",
    "        Xt['payable_per_month'] = np.cbrt(X['LoanAmount']*1000/ X['Loan_Amount_Term'])\n",
    "        Xt[self.columns] = np.cbrt(Xt[self.columns])\n",
    "        return Xt        \n",
    "        \n",
    "    \n",
    "class One_Hot(BaseEstimator, TransformerMixin):\n",
    "    def __init__(self,cols):\n",
    "        self.cols = cols\n",
    "        self.encoder = OneHotEncoder(sparse=False)\n",
    "        \n",
    "    def fit(self,X,y=None):\n",
    "        return self\n",
    "    \n",
    "    def transform(self,X):\n",
    "        print(X.shape)\n",
    "        cat = self.encoder.fit_transform(X[:,0:self.cols])\n",
    "        X = X[:,self.cols:]           \n",
    "        Xt = np.hstack((cat,X))\n",
    "        print(cat[0])\n",
    "        print(cat.shape)\n",
    "        print(X.shape)\n",
    "        print(Xt.shape)\n",
    "        return Xt\n",
    "     \n",
    "class RawEncoder(TransformerMixin,BaseEstimator):\n",
    "    def fit(self,X,y=None):\n",
    "        return self\n",
    "    \n",
    "    def transform(self,X):\n",
    "        Xt = X.loc[:,categorical_columns]\n",
    "        Xt = OrdinalEncoder().fit_transform(Xt)\n",
    "        return Xt"
   ]
  },
  {
   "cell_type": "code",
   "execution_count": 323,
   "metadata": {},
   "outputs": [],
   "source": [
    "cat_columns = ['Credit_History']\n",
    "income_loan = ['ApplicantIncome','CoapplicantIncome','LoanAmount']"
   ]
  },
  {
   "cell_type": "code",
   "execution_count": 324,
   "metadata": {},
   "outputs": [],
   "source": [
    "\n",
    "test_transformer = FeatureUnion([('encoder',ColTransformer(cat_columns)),('normalize', Normalize(income_loan))])\n",
    "#forest_encoder = Custom_Encoder()\n",
    "\n",
    "transformer  = FeatureUnion([('col_transformer',ColTransformer(cat_columns)),('normalize',Normalize(income_loan))])\n"
   ]
  },
  {
   "cell_type": "code",
   "execution_count": 328,
   "metadata": {},
   "outputs": [],
   "source": [
    "#handle Nan values using the KNN imputer\n",
    "from sklearn.impute import KNNImputer\n",
    "imputer = KNNImputer(n_neighbors=3, weights='distance')\n",
    "test_pipe = Pipeline([('transformer',test_transformer),('imputer',imputer),('scaler',StandardScaler())]) \n",
    "#imputer_pipe = Pipeline([('transformer',transformer),('imputer',imputer),('one_hot', One_Hot(len(cat_columns)))])\n",
    "#forest_data = forest_imputer_pipe.fit_transform(loan_train)\n",
    "#data = imputer_pipe.fit_transform(loan_train)\n",
    "test = test_pipe.fit_transform(loan_train)"
   ]
  },
  {
   "cell_type": "markdown",
   "metadata": {},
   "source": [
    "\n",
    "### Now let's spotcheck several models."
   ]
  },
  {
   "cell_type": "code",
   "execution_count": 330,
   "metadata": {},
   "outputs": [],
   "source": [
    "\n",
    "#X_train,X_test,y_train,y_test = train_test_split(data,labels,test_size = 0.1,random_state=0)\n",
    "X_train,X_test,y_train,y_test = train_test_split(test,labels,test_size = 0.1,random_state=0)"
   ]
  },
  {
   "cell_type": "code",
   "execution_count": 331,
   "metadata": {},
   "outputs": [],
   "source": [
    "def performance(perf):\n",
    "        for name, score in perf.items():\n",
    "            print(f'{name} cv_score: {np.mean(score)}')"
   ]
  },
  {
   "cell_type": "code",
   "execution_count": 332,
   "metadata": {},
   "outputs": [],
   "source": [
    "models = {'logistic_regressor': LogisticRegression(),\n",
    "          'svc': SVC(kernel='rbf'),\n",
    "         'random_forest' : RandomForestClassifier(),\n",
    "         #'knn' : KNeighborsClassifier(),\n",
    "          'xgboot': XGBClassifier(),}\n",
    "           #'nb' : CategoricalNB() }"
   ]
  },
  {
   "cell_type": "code",
   "execution_count": 333,
   "metadata": {},
   "outputs": [],
   "source": [
    "from sklearn.model_selection import cross_val_score, StratifiedKFold\n",
    "cv =StratifiedKFold(n_splits=10)"
   ]
  },
  {
   "cell_type": "code",
   "execution_count": 334,
   "metadata": {},
   "outputs": [],
   "source": [
    "\n",
    "\n",
    "def spot_check():\n",
    "    model_performance = {}\n",
    "    for name, model in models.items() :\n",
    "        #pipe = Pipeline([('imputer',imputer_pipe),(name, model)])\n",
    "        #model.fit(data,labels)\n",
    "        #cv_score = model.score(X_test,y_test)\n",
    "        cv_score = cross_val_score(model,test,labels,scoring='accuracy',cv=10)\n",
    "        model_performance[name] = cv_score\n",
    "        \n",
    "    return model_performance"
   ]
  },
  {
   "cell_type": "markdown",
   "metadata": {},
   "source": [
    "The use of PCA to reduce correlation and dimension did not boost the performance of the models. The reason may be that the features are mostly categorical"
   ]
  },
  {
   "cell_type": "code",
   "execution_count": 459,
   "metadata": {
    "scrolled": false
   },
   "outputs": [],
   "source": [
    "#performance(spot_check())"
   ]
  },
  {
   "cell_type": "markdown",
   "metadata": {},
   "source": [
    "# Results after spotchecking \n",
    "- logistic_regressor cv_score: 0.8144632469592809\n",
    "- svc cv_score: 0.6873083024854575\n",
    "- random_forest cv_score: 0.8029878371232153\n",
    "- xgboot cv_score: 0.8095980962453728"
   ]
  },
  {
   "cell_type": "code",
   "execution_count": 335,
   "metadata": {},
   "outputs": [
    {
     "data": {
      "text/plain": [
       "RandomForestClassifier(bootstrap=True, ccp_alpha=0.0, class_weight=None,\n",
       "                       criterion='gini', max_depth=None, max_features='auto',\n",
       "                       max_leaf_nodes=None, max_samples=None,\n",
       "                       min_impurity_decrease=0.0, min_impurity_split=None,\n",
       "                       min_samples_leaf=1, min_samples_split=2,\n",
       "                       min_weight_fraction_leaf=0.0, n_estimators=300,\n",
       "                       n_jobs=None, oob_score=False, random_state=None,\n",
       "                       verbose=0, warm_start=False)"
      ]
     },
     "execution_count": 335,
     "metadata": {},
     "output_type": "execute_result"
    }
   ],
   "source": [
    "forest =  RandomForestClassifier(n_estimators=300)\n",
    "forest.fit(test,labels)"
   ]
  },
  {
   "cell_type": "code",
   "execution_count": 338,
   "metadata": {},
   "outputs": [
    {
     "name": "stdout",
     "output_type": "stream",
     "text": [
      "Accuracy score : 1.0\n",
      "F1_score : 1.0\n",
      "Precision_score : 1.0\n"
     ]
    }
   ],
   "source": [
    "print(f'Accuracy score : {accuracy_score(y_test,forest.predict(X_test))}')\n",
    "print(f'F1_score : {f1_score(y_test,forest.predict(X_test))}')\n",
    "print(f'Precision_score : {precision_score(y_test,forest.predict(X_test))}')\n",
    "\n"
   ]
  },
  {
   "cell_type": "code",
   "execution_count": 339,
   "metadata": {},
   "outputs": [],
   "source": [
    "predictors = cat_columns + income_loan\n",
    "predictors.append('tot_income')\n",
    "predictors.append('payable_per_month')\n",
    "\n",
    "\n",
    "#predictors = ['Married','Credit_History','CoapplicantIncome','ApplicantIncome','TotIncome','Property_Area','Loan_bin']"
   ]
  },
  {
   "cell_type": "code",
   "execution_count": 340,
   "metadata": {},
   "outputs": [
    {
     "data": {
      "image/png": "[encoded data removed]",
      "text/plain": [
       "<Figure size 432x288 with 1 Axes>"
      ]
     },
     "metadata": {
      "needs_background": "light"
     },
     "output_type": "display_data"
    },
    {
     "name": "stdout",
     "output_type": "stream",
     "text": [
      "['Credit_History', 'ApplicantIncome', 'CoapplicantIncome', 'LoanAmount', 'tot_income', 'payable_per_month']\n",
      "6\n"
     ]
    }
   ],
   "source": [
    "#forest.score(X_test,y_test)\n",
    "\n",
    "plt.bar(predictors, list(forest.feature_importances_))\n",
    "plt.show()\n",
    "print((predictors))\n",
    "print(len(forest.feature_importances_))"
   ]
  },
  {
   "cell_type": "markdown",
   "metadata": {},
   "source": [
    "The predictors in order of importance : \n",
    "- Credit_History\n",
    "- TotIncome\n",
    "- ApplicantIncome\n",
    "- LoanAmount\n",
    "- CoapplicantIncome\n",
    "- Property_Area\n",
    "- Loan_amount_term\n",
    "\n",
    "so lets take a look at the correlation between these features"
   ]
  },
  {
   "cell_type": "markdown",
   "metadata": {},
   "source": [
    "## Tuning the KNN_Classifier Model.\n"
   ]
  },
  {
   "cell_type": "code",
   "execution_count": 357,
   "metadata": {
    "scrolled": true
   },
   "outputs": [
    {
     "name": "stdout",
     "output_type": "stream",
     "text": [
      "Fitting 5 folds for each of 18 candidates, totalling 90 fits\n"
     ]
    },
    {
     "name": "stderr",
     "output_type": "stream",
     "text": [
      "[Parallel(n_jobs=2)]: Using backend LokyBackend with 2 concurrent workers.\n",
      "[Parallel(n_jobs=2)]: Done  90 out of  90 | elapsed:    1.1s finished\n"
     ]
    },
    {
     "data": {
      "text/plain": [
       "GridSearchCV(cv=StratifiedKFold(n_splits=5, random_state=None, shuffle=False),\n",
       "             error_score=nan,\n",
       "             estimator=KNeighborsClassifier(algorithm='auto', leaf_size=30,\n",
       "                                            metric='minkowski',\n",
       "                                            metric_params=None, n_jobs=None,\n",
       "                                            n_neighbors=5, p=2,\n",
       "                                            weights='uniform'),\n",
       "             iid='deprecated', n_jobs=2,\n",
       "             param_grid={'n_neighbors': range(1, 10),\n",
       "                         'weights': ['uniform', 'distance']},\n",
       "             pre_dispatch='2*n_jobs', refit=True, return_train_score=False,\n",
       "             scoring=None, verbose=1)"
      ]
     },
     "execution_count": 357,
     "metadata": {},
     "output_type": "execute_result"
    }
   ],
   "source": [
    "from shutil import rmtree\n",
    "from tempfile import mkdtemp\n",
    "cachedir = mkdtemp()\n",
    "\n",
    "param_grid = {\n",
    "            'n_neighbors': range(1,10),\n",
    "             'weights': ['uniform','distance']\n",
    "    }\n",
    "neighbors_classifier = KNeighborsClassifier()\n",
    "#knn_random_pipe =Pipeline([('imputer', imputer_pipe),('classifier', neighbors_classifier)])\n",
    "knn_search = GridSearchCV(neighbors_classifier,param_grid,cv=cv,n_jobs=2,verbose = 1)\n",
    "knn_search.fit(test,labels)"
   ]
  },
  {
   "cell_type": "code",
   "execution_count": 358,
   "metadata": {},
   "outputs": [
    {
     "data": {
      "text/plain": [
       "{'n_neighbors': 7, 'weights': 'uniform'}"
      ]
     },
     "execution_count": 358,
     "metadata": {},
     "output_type": "execute_result"
    }
   ],
   "source": [
    "knn_best_estimator = knn_search.best_estimator_\n",
    "knn_search.best_params_"
   ]
  },
  {
   "cell_type": "code",
   "execution_count": 359,
   "metadata": {
    "scrolled": true
   },
   "outputs": [
    {
     "data": {
      "text/plain": [
       "0.8870967741935484"
      ]
     },
     "execution_count": 359,
     "metadata": {},
     "output_type": "execute_result"
    }
   ],
   "source": [
    "knn_best_estimator.score(X_test,y_test)"
   ]
  },
  {
   "cell_type": "code",
   "execution_count": 360,
   "metadata": {},
   "outputs": [
    {
     "data": {
      "text/plain": [
       "0.7769434161819143"
      ]
     },
     "execution_count": 360,
     "metadata": {},
     "output_type": "execute_result"
    }
   ],
   "source": [
    "knn_cv_score = cross_val_score(knn_best_estimator,data,labels,scoring='accuracy',cv=10)\n",
    "np.mean(knn_cv_score)"
   ]
  },
  {
   "cell_type": "markdown",
   "metadata": {},
   "source": [
    "# Using XGBClassifier"
   ]
  },
  {
   "cell_type": "markdown",
   "metadata": {},
   "source": [
    "## I try to find the best parameters for the xgb model using this dataset."
   ]
  },
  {
   "cell_type": "code",
   "execution_count": 191,
   "metadata": {},
   "outputs": [],
   "source": [
    "import xgboost as xgb\n",
    "from xgboost.sklearn import XGBClassifier\n",
    "from sklearn.metrics import roc_auc_score\n",
    "def modelfit(alg, dtrain, dtest,useTrainCV=True, cv_folds=cv, early_stopping_rounds=60):\n",
    "    \n",
    "    if useTrainCV:\n",
    "        xgb_param = alg.get_xgb_params()\n",
    "        xgtrain = xgb.DMatrix(dtrain, label=Y_train)\n",
    "        xgtest = xgb.DMatrix(dtest)\n",
    "        cvresult = xgb.cv(xgb_param, xgtrain, num_boost_round=alg.get_params()['n_estimators'], nfold=cv_folds,\n",
    "            metrics='accuracy', early_stopping_rounds=early_stopping_rounds, verbose_eval=True)\n",
    "        alg.set_params(n_estimators=cvresult.shape[0])\n",
    "    \n",
    "    #Fit the algorithm on the data\n",
    "    alg.fit(dtrain, Y_train,eval_metric='auc')\n",
    "        \n",
    "    #Predict training set:\n",
    "    dtrain_predictions = alg.predict(dtrain)\n",
    "    dtrain_predprob = alg.predict_proba(dtrain)[:,1]\n",
    "        \n",
    "    #Print model report:\n",
    "    print(\"\\nModel Report\")\n",
    "    print(f'Accuracy : {accuracy_score(Y_train, dtrain_predictions)}' )\n",
    "    print(f\"AUC Score (Train): { roc_auc_score(Y_train, dtrain_predprob)}\" )\n",
    "    \n",
    "#     Predict on testing data:\n",
    "    print(' ')\n",
    "    print(cvresult.shape[0])\n",
    "    print('')\n",
    "    dtest_predprob = alg.predict_proba(dtest)[:,1]\n",
    "    dtest_predictions=  alg.predict(dtest)\n",
    "    #results = test_results.merge(dtest[['ID','predprob']], on='ID')\n",
    "    print(f'Accuracy : {accuracy_score(Y_test,dtest_predictions)}')\n",
    "    print(f'AUC Score (Test): {roc_auc_score(Y_test, dtest_predprob)}')\n",
    "                \n",
    "    #feat_imp = pd.Series(alg.booster().get_fscore()).sort_values(ascending=False)\n",
    "    #feat_imp.plot(kind='bar', title='Feature Importances')\n",
    "    #plt.ylabel('Feature Importance Score')"
   ]
  },
  {
   "cell_type": "code",
   "execution_count": 197,
   "metadata": {},
   "outputs": [],
   "source": [
    "#xgb1 =  XGBClassifier( learning_rate =0.01, n_estimators=5000, max_depth=9, min_child_weight=3, gamma=0, subsample=0.8, \n",
    "                   # colsample_bytree=0.8,objective= 'binary:logistic', cv_folds= 6,nthread=4, scale_pos_weight=1,reg_alpha=0.02, seed=27)\n",
    "#modelfit(xgb1, x_train, x_test, predictors)"
   ]
  },
  {
   "cell_type": "code",
   "execution_count": 551,
   "metadata": {},
   "outputs": [
    {
     "name": "stdout",
     "output_type": "stream",
     "text": [
      "Fitting 8 folds for each of 9 candidates, totalling 72 fits\n"
     ]
    },
    {
     "name": "stderr",
     "output_type": "stream",
     "text": [
      "[Parallel(n_jobs=4)]: Using backend LokyBackend with 4 concurrent workers.\n",
      "[Parallel(n_jobs=4)]: Done  42 tasks      | elapsed:    2.2s\n",
      "[Parallel(n_jobs=4)]: Done  72 out of  72 | elapsed:    3.1s finished\n",
      "c:\\users\\jeffery\\appdata\\local\\programs\\python\\python37\\lib\\site-packages\\sklearn\\model_selection\\_search.py:823: FutureWarning: The parameter 'iid' is deprecated in 0.22 and will be removed in 0.24.\n",
      "  \"removed in 0.24.\", FutureWarning\n"
     ]
    },
    {
     "data": {
      "text/plain": [
       "GridSearchCV(cv=8, error_score=nan,\n",
       "             estimator=XGBClassifier(base_score=0.5, booster='gbtree',\n",
       "                                     colsample_bylevel=1, colsample_bynode=1,\n",
       "                                     colsample_bytree=0.8, gamma=0,\n",
       "                                     learning_rate=0.1, max_delta_step=0,\n",
       "                                     max_depth=9, min_child_weight=3,\n",
       "                                     missing=None, n_estimators=24, n_jobs=1,\n",
       "                                     nthread=4, objective='binary:logistic',\n",
       "                                     random_state=0, reg_alpha=0.02,\n",
       "                                     reg_lambda=1, scale_pos_weight=1, seed=27,\n",
       "                                     silent=None, subsample=0.8, verbosity=1),\n",
       "             iid=False, n_jobs=4, param_grid={'scale_pos_weight': range(1, 10)},\n",
       "             pre_dispatch='2*n_jobs', refit=True, return_train_score=False,\n",
       "             scoring='roc_auc', verbose=1)"
      ]
     },
     "execution_count": 551,
     "metadata": {},
     "output_type": "execute_result"
    }
   ],
   "source": [
    "param_test1 = {\n",
    "    'scale_pos_weight': range(1,10)\n",
    "}\n",
    "gsearch1 = GridSearchCV(estimator = XGBClassifier( learning_rate =0.1, n_estimators=24, max_depth=9,\n",
    "                                        min_child_weight=3, gamma=0, subsample=0.8, colsample_bytree=0.8,\n",
    "                                        objective= 'binary:logistic', nthread=4, scale_pos_weight=1,reg_alpha=0.02, seed=27), \n",
    "                       param_grid = param_test1, scoring='roc_auc',n_jobs=4,iid=False, cv=8,verbose=1)\n",
    "gsearch1.fit(test,labels)"
   ]
  },
  {
   "cell_type": "code",
   "execution_count": 552,
   "metadata": {},
   "outputs": [
    {
     "data": {
      "text/plain": [
       "({'scale_pos_weight': 1}, 0.7776272224238026)"
      ]
     },
     "execution_count": 552,
     "metadata": {},
     "output_type": "execute_result"
    }
   ],
   "source": [
    "gsearch1.best_params_, gsearch1.best_score_"
   ]
  },
  {
   "cell_type": "code",
   "execution_count": 345,
   "metadata": {},
   "outputs": [
    {
     "data": {
      "text/plain": [
       "0.8094495535119286"
      ]
     },
     "execution_count": 345,
     "metadata": {},
     "output_type": "execute_result"
    }
   ],
   "source": [
    "#xgb_best = gsearch1.best_estimator_\n",
    "np.mean(cross_val_score(best_xgb,test,labels,scoring='accuracy',cv=5))"
   ]
  },
  {
   "cell_type": "markdown",
   "metadata": {},
   "source": [
    "## The best xgb model is below"
   ]
  },
  {
   "cell_type": "code",
   "execution_count": 361,
   "metadata": {},
   "outputs": [
    {
     "data": {
      "text/plain": [
       "XGBClassifier(base_score=0.5, booster='gbtree', colsample_bylevel=1,\n",
       "              colsample_bynode=1, colsample_bytree=0.8, gamma=0,\n",
       "              learning_rate=0.01, max_delta_step=0, max_depth=9,\n",
       "              min_child_weight=3, missing=None, n_estimators=354, n_jobs=1,\n",
       "              nthread=4, objective='binary:logistic', random_state=0,\n",
       "              reg_alpha=0.02, reg_lambda=1, scale_pos_weight=1, seed=27,\n",
       "              silent=None, subsample=0.8, verbosity=1)"
      ]
     },
     "execution_count": 361,
     "metadata": {},
     "output_type": "execute_result"
    }
   ],
   "source": [
    "best_xgb = XGBClassifier( learning_rate =0.01, n_estimators=354, max_depth=9,\n",
    "                                        min_child_weight=3, gamma=0, subsample=0.8, colsample_bytree=0.8,\n",
    "                                        objective= 'binary:logistic', nthread=4, scale_pos_weight=1,reg_alpha=0.02, seed=27)\n",
    "best_xgb.fit(test,labels)"
   ]
  },
  {
   "cell_type": "markdown",
   "metadata": {},
   "source": [
    "# Using Ensemble Model\n"
   ]
  },
  {
   "cell_type": "code",
   "execution_count": 347,
   "metadata": {},
   "outputs": [],
   "source": [
    "import numpy as np\n",
    "from sklearn.base import ClassifierMixin\n",
    "from scipy import stats\n",
    "from sklearn.utils import shuffle\n",
    "\n",
    "class LoanEnsemble(BaseEstimator, TransformerMixin):\n",
    "    def __init__(self, estimator):\n",
    "        self.estimator = estimator\n",
    "        \n",
    "    def fit(self,X,y):\n",
    "        X_shuffled,y_shuffled = shuffle(X,y, n_samples=530)\n",
    "        self.estimator.fit(X_shuffled,y_shuffled)\n",
    "        return self\n",
    "    \n",
    "    def transform(self,X):\n",
    "        return np.atleast_2d(self.estimator.predict(X)).T\n",
    "    \n",
    "class MajorityClassifier(BaseEstimator, ClassifierMixin):\n",
    "    def fit(self,X,y):\n",
    "        return self\n",
    "    \n",
    "    def predict(self,X):\n",
    "        Xt = stats.mode(X.T)[0]\n",
    "        Xt = Xt.T\n",
    "        return Xt"
   ]
  },
  {
   "cell_type": "code",
   "execution_count": 348,
   "metadata": {},
   "outputs": [
    {
     "name": "stdout",
     "output_type": "stream",
     "text": [
      "0.8548387096774194\n"
     ]
    }
   ],
   "source": [
    "ensemble = FeatureUnion([('knn', LoanEnsemble(knn_best_estimator)),\n",
    "                        ('svc', LoanEnsemble(SVC(kernel='rbf'))),\n",
    "                         \n",
    "                         ('linear', LoanEnsemble(LogisticRegression())),\n",
    "                        ('xgb_classifier', LoanEnsemble(best_xgb))])\n",
    "\n",
    "ensemble_classifier  =  Pipeline([('ensemble',ensemble),('maj_classifier',MajorityClassifier())])\n",
    "ensemble_classifier.fit(X_train,y_train)\n",
    "print(ensemble_classifier.score(X_test,y_test))\n",
    "#ensemble_classifier.predict(X_test)"
   ]
  },
  {
   "cell_type": "code",
   "execution_count": 349,
   "metadata": {},
   "outputs": [],
   "source": [
    "import dill\n",
    "with open('ensemble.dll','wb') as f: \n",
    "    dill.dump(ensemble_classifier , f)"
   ]
  },
  {
   "cell_type": "code",
   "execution_count": 351,
   "metadata": {},
   "outputs": [],
   "source": [
    "cv_score = cross_val_score(ensemble_classifier,test,labels,scoring='accuracy',cv=10)"
   ]
  },
  {
   "cell_type": "code",
   "execution_count": 352,
   "metadata": {},
   "outputs": [
    {
     "data": {
      "text/plain": [
       "0.8111845584346906"
      ]
     },
     "execution_count": 352,
     "metadata": {},
     "output_type": "execute_result"
    }
   ],
   "source": [
    "np.mean(cv_score)"
   ]
  },
  {
   "cell_type": "markdown",
   "metadata": {},
   "source": [
    "# Using SVM for Classification and Hypertuning"
   ]
  },
  {
   "cell_type": "code",
   "execution_count": 353,
   "metadata": {},
   "outputs": [],
   "source": [
    "from sklearn.model_selection import StratifiedKFold\n",
    "cv = StratifiedKFold(n_splits=5)"
   ]
  },
  {
   "cell_type": "code",
   "execution_count": 362,
   "metadata": {},
   "outputs": [
    {
     "name": "stdout",
     "output_type": "stream",
     "text": [
      "Fitting 5 folds for each of 500 candidates, totalling 2500 fits\n"
     ]
    },
    {
     "name": "stderr",
     "output_type": "stream",
     "text": [
      "[Parallel(n_jobs=2)]: Using backend LokyBackend with 2 concurrent workers.\n",
      "[Parallel(n_jobs=2)]: Done  92 tasks      | elapsed:    2.8s\n",
      "[Parallel(n_jobs=2)]: Done 1284 tasks      | elapsed:   21.7s\n",
      "[Parallel(n_jobs=2)]: Done 2500 out of 2500 | elapsed:   35.6s finished\n"
     ]
    },
    {
     "data": {
      "text/plain": [
       "RandomizedSearchCV(cv=StratifiedKFold(n_splits=5, random_state=None, shuffle=False),\n",
       "                   error_score=nan,\n",
       "                   estimator=Pipeline(memory='C:\\\\Users\\\\Jeffery\\\\AppData\\\\Local\\\\Temp\\\\tmpuo7sxrlo',\n",
       "                                      steps=[('svc',\n",
       "                                              SVC(C=1.0, break_ties=False,\n",
       "                                                  cache_size=200,\n",
       "                                                  class_weight=None, coef0=0.0,\n",
       "                                                  decision_function_shape='ovr',\n",
       "                                                  degree=3, gamma='scale',\n",
       "                                                  kernel='rbf', max_iter=-1,\n",
       "                                                  probabil...\n",
       "       1.70735265e+01, 1.87381742e+01, 2.05651231e+01, 2.25701972e+01,\n",
       "       2.47707636e+01, 2.71858824e+01, 2.98364724e+01, 3.27454916e+01,\n",
       "       3.59381366e+01, 3.94420606e+01, 4.32876128e+01, 4.75081016e+01,\n",
       "       5.21400829e+01, 5.72236766e+01, 6.28029144e+01, 6.89261210e+01,\n",
       "       7.56463328e+01, 8.30217568e+01, 9.11162756e+01, 1.00000000e+02])},\n",
       "                   pre_dispatch='2*n_jobs', random_state=0, refit=True,\n",
       "                   return_train_score=False, scoring=None, verbose=1)"
      ]
     },
     "execution_count": 362,
     "metadata": {},
     "output_type": "execute_result"
    }
   ],
   "source": [
    "param_grid = {\n",
    "            'svc__gamma': np.logspace(-2,2,100),\n",
    "             'svc__C': np.logspace(-2,2,100),\n",
    "             }\n",
    "scaler = StandardScaler()\n",
    "svc = SVC(kernel='rbf')\n",
    "svc_pipe = Pipeline([('svc', svc)],memory= cachedir)\n",
    "random_svc = RandomizedSearchCV(svc_pipe,param_grid,cv=cv,n_jobs=2,verbose = 1,n_iter= 500,random_state=0)\n",
    "random_svc.fit(test,labels)\n"
   ]
  },
  {
   "cell_type": "code",
   "execution_count": 363,
   "metadata": {},
   "outputs": [
    {
     "data": {
      "text/plain": [
       "Pipeline(memory='C:\\\\Users\\\\Jeffery\\\\AppData\\\\Local\\\\Temp\\\\tmpuo7sxrlo',\n",
       "         steps=[('svc',\n",
       "                 SVC(C=0.08497534359086446, break_ties=False, cache_size=200,\n",
       "                     class_weight=None, coef0=0.0,\n",
       "                     decision_function_shape='ovr', degree=3,\n",
       "                     gamma=0.02104904144512021, kernel='rbf', max_iter=-1,\n",
       "                     probability=False, random_state=None, shrinking=True,\n",
       "                     tol=0.001, verbose=False))],\n",
       "         verbose=False)"
      ]
     },
     "execution_count": 363,
     "metadata": {},
     "output_type": "execute_result"
    }
   ],
   "source": [
    "best_svc  =  random_svc.best_estimator_\n",
    "best_svc.fit(test,labels)"
   ]
  },
  {
   "cell_type": "code",
   "execution_count": 364,
   "metadata": {},
   "outputs": [
    {
     "data": {
      "text/plain": [
       "0.8709677419354839"
      ]
     },
     "execution_count": 364,
     "metadata": {},
     "output_type": "execute_result"
    }
   ],
   "source": [
    "best_svc.score(X_test,y_test)\n"
   ]
  },
  {
   "cell_type": "code",
   "execution_count": 365,
   "metadata": {},
   "outputs": [
    {
     "name": "stdout",
     "output_type": "stream",
     "text": [
      "0.8548387096774194\n"
     ]
    }
   ],
   "source": [
    "tuned_ensemble = FeatureUnion([('knn', LoanEnsemble(knn_best_estimator)),\n",
    "                        ('svc', LoanEnsemble(best_svc)),\n",
    "                         ('linear', LoanEnsemble(LogisticRegression())),\n",
    "                        ('xgb_classifier', LoanEnsemble(best_xgb))])\n",
    "\n",
    "ensemble_classifier2  =  Pipeline([('ensemble',tuned_ensemble),('maj_classifier',MajorityClassifier())])\n",
    "ensemble_classifier2.fit(test,labels)\n",
    "print(ensemble_classifier.score(X_test,y_test))\n",
    "#ensemble_classifier.predict(X_test)"
   ]
  },
  {
   "cell_type": "code",
   "execution_count": 366,
   "metadata": {},
   "outputs": [
    {
     "name": "stdout",
     "output_type": "stream",
     "text": [
      "0.8079323109465891\n",
      "0.8127974616604972\n"
     ]
    }
   ],
   "source": [
    "tuned_score = cross_val_score(ensemble_classifier2,test,labels,scoring='accuracy',cv=10)\n",
    "svc_score = cross_val_score(best_svc,test,labels,scoring='accuracy',cv=10)\n",
    "print(np.mean(tuned_score))\n",
    "print(np.mean(svc_score))"
   ]
  },
  {
   "cell_type": "markdown",
   "metadata": {},
   "source": [
    "## Using randomForestClassifier for classification"
   ]
  },
  {
   "cell_type": "code",
   "execution_count": 79,
   "metadata": {},
   "outputs": [],
   "source": [
    "forest_classifier = RandomForestClassifier()\n",
    "#forest_classifier.fit(imputed_data, labels)\n",
    "#forest_classifier.score(imputed_data,labels)"
   ]
  },
  {
   "cell_type": "markdown",
   "metadata": {},
   "source": [
    "## Hypertuning the Random Forest Classifier model\n"
   ]
  },
  {
   "cell_type": "code",
   "execution_count": 367,
   "metadata": {},
   "outputs": [
    {
     "name": "stdout",
     "output_type": "stream",
     "text": [
      "Fitting 5 folds for each of 100 candidates, totalling 500 fits\n"
     ]
    },
    {
     "name": "stderr",
     "output_type": "stream",
     "text": [
      "[Parallel(n_jobs=2)]: Using backend LokyBackend with 2 concurrent workers.\n",
      "[Parallel(n_jobs=2)]: Done  46 tasks      | elapsed:   14.8s\n",
      "[Parallel(n_jobs=2)]: Done 196 tasks      | elapsed:   44.1s\n",
      "[Parallel(n_jobs=2)]: Done 446 tasks      | elapsed:  1.6min\n",
      "[Parallel(n_jobs=2)]: Done 500 out of 500 | elapsed:  1.7min finished\n"
     ]
    },
    {
     "data": {
      "text/plain": [
       "RandomizedSearchCV(cv=StratifiedKFold(n_splits=5, random_state=None, shuffle=False),\n",
       "                   error_score=nan,\n",
       "                   estimator=RandomForestClassifier(bootstrap=True,\n",
       "                                                    ccp_alpha=0.0,\n",
       "                                                    class_weight=None,\n",
       "                                                    criterion='gini',\n",
       "                                                    max_depth=None,\n",
       "                                                    max_features='auto',\n",
       "                                                    max_leaf_nodes=None,\n",
       "                                                    max_samples=None,\n",
       "                                                    min_impurity_decrease=0.0,\n",
       "                                                    min_impurity_split=None,\n",
       "                                                    min_samples_leaf=1,\n",
       "                                                    min_samples_sp...\n",
       "                                                    min_weight_fraction_leaf=0.0,\n",
       "                                                    n_estimators=100,\n",
       "                                                    n_jobs=None,\n",
       "                                                    oob_score=False,\n",
       "                                                    random_state=None,\n",
       "                                                    verbose=0,\n",
       "                                                    warm_start=False),\n",
       "                   iid='deprecated', n_iter=100, n_jobs=2,\n",
       "                   param_distributions={'max_depth': range(2, 15, 2),\n",
       "                                        'max_features': range(1, 5),\n",
       "                                        'n_estimators': range(20, 250, 3)},\n",
       "                   pre_dispatch='2*n_jobs', random_state=0, refit=True,\n",
       "                   return_train_score=False, scoring=None, verbose=1)"
      ]
     },
     "execution_count": 367,
     "metadata": {},
     "output_type": "execute_result"
    }
   ],
   "source": [
    "from shutil import rmtree\n",
    "from tempfile import mkdtemp\n",
    "cachedir = mkdtemp()\n",
    "\n",
    "param_grid = {\n",
    "            'n_estimators': range(20,250,3),\n",
    "             'max_features': range(1,5),\n",
    "             'max_depth': range(2,15,2)\n",
    "             }\n",
    "forest_classifier = RandomForestClassifier()\n",
    "forest_pipe = Pipeline([('forest',forest_classifier)],memory= cachedir)\n",
    "forest_grid = RandomizedSearchCV(forest_classifier,param_grid,cv=cv,n_jobs=2,verbose = 1,n_iter= 100,random_state=0)\n",
    "forest_grid.fit(test,labels)\n"
   ]
  },
  {
   "cell_type": "code",
   "execution_count": 368,
   "metadata": {},
   "outputs": [
    {
     "name": "stdout",
     "output_type": "stream",
     "text": [
      "{'n_estimators': 230, 'max_features': 4, 'max_depth': 10}\n",
      "0.9354838709677419\n"
     ]
    }
   ],
   "source": [
    "best_forest = forest_grid.best_estimator_\n",
    "print(forest_grid.best_params_)\n",
    "print(best_forest.score(X_test, y_test))\n"
   ]
  },
  {
   "cell_type": "code",
   "execution_count": 369,
   "metadata": {},
   "outputs": [
    {
     "data": {
      "text/plain": [
       "RandomForestClassifier(bootstrap=True, ccp_alpha=0.0, class_weight=None,\n",
       "                       criterion='gini', max_depth=10, max_features=4,\n",
       "                       max_leaf_nodes=None, max_samples=None,\n",
       "                       min_impurity_decrease=0.0, min_impurity_split=None,\n",
       "                       min_samples_leaf=1, min_samples_split=2,\n",
       "                       min_weight_fraction_leaf=0.0, n_estimators=230,\n",
       "                       n_jobs=None, oob_score=False, random_state=None,\n",
       "                       verbose=0, warm_start=False)"
      ]
     },
     "execution_count": 369,
     "metadata": {},
     "output_type": "execute_result"
    }
   ],
   "source": [
    "best_forest.fit(test, labels)"
   ]
  },
  {
   "cell_type": "code",
   "execution_count": 370,
   "metadata": {},
   "outputs": [
    {
     "data": {
      "text/plain": [
       "0.9354838709677419"
      ]
     },
     "execution_count": 370,
     "metadata": {},
     "output_type": "execute_result"
    }
   ],
   "source": [
    "best_forest.score(X_test,y_test)"
   ]
  },
  {
   "cell_type": "code",
   "execution_count": 377,
   "metadata": {},
   "outputs": [
    {
     "name": "stdout",
     "output_type": "stream",
     "text": [
      "0.8095716552088842\n"
     ]
    }
   ],
   "source": [
    "forest_score = cross_val_score(best_forest,test,labels,scoring='accuracy',cv=10)\n",
    "print(np.mean(forest_score))"
   ]
  },
  {
   "cell_type": "markdown",
   "metadata": {},
   "source": [
    "#  Classification For The Test Dataset."
   ]
  },
  {
   "cell_type": "code",
   "execution_count": 390,
   "metadata": {},
   "outputs": [],
   "source": [
    "loan_test = pd.read_csv('loan_test.csv')"
   ]
  },
  {
   "cell_type": "code",
   "execution_count": 391,
   "metadata": {},
   "outputs": [
    {
     "data": {
      "text/html": [
       "<div>\n",
       "<style scoped>\n",
       "    .dataframe tbody tr th:only-of-type {\n",
       "        vertical-align: middle;\n",
       "    }\n",
       "\n",
       "    .dataframe tbody tr th {\n",
       "        vertical-align: top;\n",
       "    }\n",
       "\n",
       "    .dataframe thead th {\n",
       "        text-align: right;\n",
       "    }\n",
       "</style>\n",
       "<table border=\"1\" class=\"dataframe\">\n",
       "  <thead>\n",
       "    <tr style=\"text-align: right;\">\n",
       "      <th></th>\n",
       "      <th>Loan_ID</th>\n",
       "      <th>Gender</th>\n",
       "      <th>Married</th>\n",
       "      <th>Dependents</th>\n",
       "      <th>Education</th>\n",
       "      <th>Self_Employed</th>\n",
       "      <th>ApplicantIncome</th>\n",
       "      <th>CoapplicantIncome</th>\n",
       "      <th>LoanAmount</th>\n",
       "      <th>Loan_Amount_Term</th>\n",
       "      <th>Credit_History</th>\n",
       "      <th>Property_Area</th>\n",
       "    </tr>\n",
       "  </thead>\n",
       "  <tbody>\n",
       "    <tr>\n",
       "      <th>0</th>\n",
       "      <td>LP001015</td>\n",
       "      <td>Male</td>\n",
       "      <td>Yes</td>\n",
       "      <td>0</td>\n",
       "      <td>Graduate</td>\n",
       "      <td>No</td>\n",
       "      <td>5720</td>\n",
       "      <td>0</td>\n",
       "      <td>110.0</td>\n",
       "      <td>360.0</td>\n",
       "      <td>1.0</td>\n",
       "      <td>Urban</td>\n",
       "    </tr>\n",
       "    <tr>\n",
       "      <th>1</th>\n",
       "      <td>LP001022</td>\n",
       "      <td>Male</td>\n",
       "      <td>Yes</td>\n",
       "      <td>1</td>\n",
       "      <td>Graduate</td>\n",
       "      <td>No</td>\n",
       "      <td>3076</td>\n",
       "      <td>1500</td>\n",
       "      <td>126.0</td>\n",
       "      <td>360.0</td>\n",
       "      <td>1.0</td>\n",
       "      <td>Urban</td>\n",
       "    </tr>\n",
       "    <tr>\n",
       "      <th>2</th>\n",
       "      <td>LP001031</td>\n",
       "      <td>Male</td>\n",
       "      <td>Yes</td>\n",
       "      <td>2</td>\n",
       "      <td>Graduate</td>\n",
       "      <td>No</td>\n",
       "      <td>5000</td>\n",
       "      <td>1800</td>\n",
       "      <td>208.0</td>\n",
       "      <td>360.0</td>\n",
       "      <td>1.0</td>\n",
       "      <td>Urban</td>\n",
       "    </tr>\n",
       "    <tr>\n",
       "      <th>3</th>\n",
       "      <td>LP001035</td>\n",
       "      <td>Male</td>\n",
       "      <td>Yes</td>\n",
       "      <td>2</td>\n",
       "      <td>Graduate</td>\n",
       "      <td>No</td>\n",
       "      <td>2340</td>\n",
       "      <td>2546</td>\n",
       "      <td>100.0</td>\n",
       "      <td>360.0</td>\n",
       "      <td>NaN</td>\n",
       "      <td>Urban</td>\n",
       "    </tr>\n",
       "    <tr>\n",
       "      <th>4</th>\n",
       "      <td>LP001051</td>\n",
       "      <td>Male</td>\n",
       "      <td>No</td>\n",
       "      <td>0</td>\n",
       "      <td>Not Graduate</td>\n",
       "      <td>No</td>\n",
       "      <td>3276</td>\n",
       "      <td>0</td>\n",
       "      <td>78.0</td>\n",
       "      <td>360.0</td>\n",
       "      <td>1.0</td>\n",
       "      <td>Urban</td>\n",
       "    </tr>\n",
       "  </tbody>\n",
       "</table>\n",
       "</div>"
      ],
      "text/plain": [
       "    Loan_ID Gender Married Dependents     Education Self_Employed  \\\n",
       "0  LP001015   Male     Yes          0      Graduate            No   \n",
       "1  LP001022   Male     Yes          1      Graduate            No   \n",
       "2  LP001031   Male     Yes          2      Graduate            No   \n",
       "3  LP001035   Male     Yes          2      Graduate            No   \n",
       "4  LP001051   Male      No          0  Not Graduate            No   \n",
       "\n",
       "   ApplicantIncome  CoapplicantIncome  LoanAmount  Loan_Amount_Term  \\\n",
       "0             5720                  0       110.0             360.0   \n",
       "1             3076               1500       126.0             360.0   \n",
       "2             5000               1800       208.0             360.0   \n",
       "3             2340               2546       100.0             360.0   \n",
       "4             3276                  0        78.0             360.0   \n",
       "\n",
       "   Credit_History Property_Area  \n",
       "0             1.0         Urban  \n",
       "1             1.0         Urban  \n",
       "2             1.0         Urban  \n",
       "3             NaN         Urban  \n",
       "4             1.0         Urban  "
      ]
     },
     "execution_count": 391,
     "metadata": {},
     "output_type": "execute_result"
    }
   ],
   "source": [
    "\n",
    "loan_test.head()"
   ]
  },
  {
   "cell_type": "code",
   "execution_count": 392,
   "metadata": {},
   "outputs": [],
   "source": [
    "test_loan = test_pipe.fit_transform(loan_test)"
   ]
  },
  {
   "cell_type": "code",
   "execution_count": 393,
   "metadata": {},
   "outputs": [],
   "source": [
    "svc_labels = best_svc.predict(test_loan)\n",
    "xgb_labels = best_xgb.predict(test_loan)\n",
    "forest_labels= best_forest.predict(test_loan)\n",
    "knn_labels = knn_best_estimator.predict(test_loan)\n",
    "ensemble_labels = ensemble_classifier.predict(test_loan)\n"
   ]
  },
  {
   "cell_type": "code",
   "execution_count": 394,
   "metadata": {},
   "outputs": [],
   "source": [
    "outcome = {'1': 'Y', '0': 'N'}\n",
    "forest_labels = np.array([outcome[str(value)] for value in forest_labels])\n",
    "xgb_labels = np.array([outcome[str(value)] for value in xgb_labels])\n",
    "neighbor_labels = np.array([outcome[str(value)] for value in knn_labels])\n",
    "svc_labels = np.array([outcome[str(value)] for value in svc_labels])\n"
   ]
  },
  {
   "cell_type": "code",
   "execution_count": 395,
   "metadata": {},
   "outputs": [],
   "source": [
    "forest_result = pd.DataFrame({'Loan_ID': loan_test['Loan_ID'], 'Loan_Status': forest_labels})\n",
    "knn_result = pd.DataFrame({'Loan_ID': loan_test['Loan_ID'], 'Loan_Status': neighbor_labels})\n",
    "xgb_result = pd.DataFrame({'Loan_ID': loan_test['Loan_ID'], 'Loan_Status': xgb_labels})\n",
    "svc_result = pd.DataFrame({'Loan_ID': loan_test['Loan_ID'], 'Loan_Status': svc_labels})\n",
    "\n",
    "forest_result.set_index('Loan_ID',inplace = True)\n",
    "xgb_result.set_index('Loan_ID', inplace = True)\n",
    "knn_result.set_index('Loan_ID', inplace = True)\n",
    "svc_result.set_index('Loan_ID', inplace = True)\n",
    "\n"
   ]
  },
  {
   "cell_type": "code",
   "execution_count": 396,
   "metadata": {},
   "outputs": [],
   "source": [
    "forest_result.to_csv('forest_result.csv')\n",
    "xgb_result.to_csv('xgb_result.csv')\n",
    "knn_result.to_csv('knn_result.csv')\n",
    "svc_result.to_csv('svc_result.csv')"
   ]
  }
 ],
 "metadata": {
  "kernelspec": {
   "display_name": "Python 3",
   "language": "python",
   "name": "python3"
  },
  "language_info": {
   "codemirror_mode": {
    "name": "ipython",
    "version": 3
   },
   "file_extension": ".py",
   "mimetype": "text/x-python",
   "name": "python",
   "nbconvert_exporter": "python",
   "pygments_lexer": "ipython3",
   "version": "3.7.6"
  }
 },
 "nbformat": 4,
 "nbformat_minor": 4
}
